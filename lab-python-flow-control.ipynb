{
 "cells": [
  {
   "cell_type": "markdown",
   "id": "d3bfc191-8885-42ee-b0a0-bbab867c6f9f",
   "metadata": {
    "tags": []
   },
   "source": [
    "# Lab | Flow Control"
   ]
  },
  {
   "cell_type": "markdown",
   "id": "303cceb0-f898-4c5f-99bd-c04e131e1ded",
   "metadata": {},
   "source": [
    "Objective: Practice how to use programming constructs like if/else statements and loops to control the flow of a program's execution."
   ]
  },
  {
   "cell_type": "markdown",
   "id": "42fd260a-9eb2-4c39-9989-f2c8c70552ec",
   "metadata": {},
   "source": [
    "## Challenge: The Haunted Mansion"
   ]
  },
  {
   "cell_type": "markdown",
   "id": "7086f8f7-ded2-48e5-b966-7ec44fb57ca5",
   "metadata": {},
   "source": [
    "You are a brave adventurer who has decided to explore the Haunted Mansion, a decrepit old building that is rumored to be haunted by ghosts and spirits. Your objective is to find the treasure that is hidden somewhere in the mansion.\n",
    "\n",
    "## Requirements\n",
    "\n",
    "- Your script should have at least two functions: \"run_mansion()\" and \"encounter_ghost()\".\n",
    "- Your script should use if-else statements, while loops, for loops, combined loops, or nested loops to control the flow of execution.\n",
    "- Your script should prompt the user for input to make decisions on which path to take or what actions to perform.\n",
    "- Your script should include random events and obstacles that can either help or hinder the adventurer in their quest.\n",
    "- Your script should have an objective of finding the treasure at the end of the mansion.\n",
    "\n",
    "## Instructions\n",
    "\n",
    "- Begin by creating a list of items that the adventurer can pick up along the way. These items will be used to help the adventurer overcome obstacles and defeat ghosts. Examples of items can be weapons, potions, keys, etc.\n",
    "\n",
    "- Complete the function called \"run_mansion()\" that serves as the main function for the game. Within \"run_mansion()\", prompt the user to choose a path to take at each intersection. Each path should have its unique challenges and obstacles that the adventurer must overcome.\n",
    "\n",
    "- Use loops to check if the adventurer has enough health points to continue the game. If their health points drop to zero, the game is over.\n",
    "\n",
    "- Complete the function called \"encounter_ghost()\" that will be used to handle ghost encounters. The function should use random events to determine the outcome of the encounter, and the adventurer should use their items to help them defeat the ghost.\n",
    "\n",
    "- Use loops to generate random events or items along the way. These events can either help or hinder the adventurer, and the outcome should be based on random chance.\n",
    "\n",
    "- At the end of the mansion, the adventurer will find the treasure, and the game will end.\n",
    "\n"
   ]
  },
  {
   "cell_type": "markdown",
   "id": "8846d61d-cf9d-4ad4-bbb8-1ecb3bb22005",
   "metadata": {},
   "source": [
    "*Introduction to Functions*:\n",
    "\n",
    "    Functions are blocks of code that perform a specific task. They are used to break up complex code into smaller, more manageable parts, which can make your code easier to read and understand. Functions can also be reused multiple times throughout your code, which can save you a lot of time and effort.\n",
    "\n",
    "    Functions are defined using the def keyword, followed by the name of the function and a set of parentheses. Inside the parentheses, you can list any arguments that the function needs in order to perform its task. These arguments are optional, but they can be useful if you need to pass data into the function from outside.\n",
    "\n",
    "    Once you have defined a function, you can call it from anywhere in your code using its name and passing any necessary arguments. When the function is called, the code inside it is executed, and any values that it returns are passed back to the calling code.\n",
    "\n",
    "    In this exercise, we have defined a function called encounter_ghost that simulates a battle between the adventurer and a ghost, and run_mansion. Your task is to complete these functions by using flow control statements such as if, else, while, for loops, and nested loops. Remember to pay attention to the instructions and comments provided in the function to help guide you. Once you have completed the function encounter_ghost, you can call it from the main code to simulate the battle and test your implementation.\n",
    "\n",
    "    Good luck!"
   ]
  },
  {
   "cell_type": "code",
   "execution_count": 1,
   "id": "e1e7483e-6e63-409c-b48e-a000e6f33025",
   "metadata": {},
   "outputs": [],
   "source": [
    "import random\n",
    "import time"
   ]
  },
  {
   "cell_type": "code",
   "execution_count": 3,
   "id": "499552c8-9e30-46e1-a706-4ac5dc64670e",
   "metadata": {},
   "outputs": [],
   "source": [
    "def encounter_ghost(health, items):\n",
    "    print(\"\\nA ghost appears out of nowhere! It looks menacing...\")\n",
    "    time.sleep(1)\n",
    "    \n",
    "    # Random chance to either defeat the ghost, escape, or get harmed\n",
    "    ghost_event = random.choice([\"defeat\", \"escape\", \"hurt\"])\n",
    "\n",
    "    if ghost_event == \"defeat\":\n",
    "        if \"silver_sword\" in items:\n",
    "            print(\"You use your silver sword and defeat the ghost!\")\n",
    "            return health  # Health remains the same after defeating the ghost\n",
    "        else:\n",
    "            print(\"You don't have a silver sword! The ghost overpowers you and drains your health.\")\n",
    "            return health - 20  # Lose health if you don't have the right item\n",
    "\n",
    "    elif ghost_event == \"escape\":\n",
    "        print(\"You manage to escape the ghost by running down a narrow hallway!\")\n",
    "        return health  # Health remains the same after escaping\n",
    "\n",
    "    elif ghost_event == \"hurt\":\n",
    "        print(\"The ghost curses you and you lose some health!\")\n",
    "        return health - 15  # Lose health when cursed"
   ]
  },
  {
   "cell_type": "code",
   "execution_count": 7,
   "id": "d3e4076b-48cc-41ac-95ad-891743e775f5",
   "metadata": {},
   "outputs": [
    {
     "name": "stdout",
     "output_type": "stream",
     "text": [
      "Welcome to the Haunted Mansion!\n",
      "\n",
      "You start your adventure with 100 health points.\n",
      "\n",
      "Current health: 100\n",
      "\n",
      "You are at a crossroads in the mansion. Choose your path:\n"
     ]
    },
    {
     "name": "stdin",
     "output_type": "stream",
     "text": [
      "Do you want to go 'left', 'right', or 'straight'?  left\n"
     ]
    },
    {
     "name": "stdout",
     "output_type": "stream",
     "text": [
      "\n",
      "You walk down a dark corridor and encounter a ghost!\n",
      "\n",
      "A ghost appears out of nowhere! It looks menacing...\n",
      "The ghost curses you and you lose some health!\n",
      "\n",
      "You find a mysterious_map!\n",
      "\n",
      "Current health: 85\n",
      "\n",
      "You are at a crossroads in the mansion. Choose your path:\n"
     ]
    },
    {
     "name": "stdin",
     "output_type": "stream",
     "text": [
      "Do you want to go 'left', 'right', or 'straight'?  right\n"
     ]
    },
    {
     "name": "stdout",
     "output_type": "stream",
     "text": [
      "\n",
      "You step into a room filled with eerie sounds... suddenly, a trap door opens!\n",
      "You fall into a pit and lose 20 health points!\n",
      "\n",
      "You find nothing new.\n",
      "\n",
      "Current health: 65\n",
      "\n",
      "You are at a crossroads in the mansion. Choose your path:\n"
     ]
    },
    {
     "name": "stdin",
     "output_type": "stream",
     "text": [
      "Do you want to go 'left', 'right', or 'straight'?  straight\n"
     ]
    },
    {
     "name": "stdout",
     "output_type": "stream",
     "text": [
      "\n",
      "You walk down the hallway and come across an old chest. It’s locked.\n",
      "The chest is locked. You need a key to open it.\n",
      "\n",
      "Current health: 65\n",
      "\n",
      "You are at a crossroads in the mansion. Choose your path:\n"
     ]
    },
    {
     "name": "stdin",
     "output_type": "stream",
     "text": [
      "Do you want to go 'left', 'right', or 'straight'?  straight\n"
     ]
    },
    {
     "name": "stdout",
     "output_type": "stream",
     "text": [
      "\n",
      "You walk down the hallway and come across an old chest. It’s locked.\n",
      "The chest is locked. You need a key to open it.\n",
      "\n",
      "Current health: 65\n",
      "\n",
      "You are at a crossroads in the mansion. Choose your path:\n"
     ]
    },
    {
     "name": "stdin",
     "output_type": "stream",
     "text": [
      "Do you want to go 'left', 'right', or 'straight'?  right\n"
     ]
    },
    {
     "name": "stdout",
     "output_type": "stream",
     "text": [
      "\n",
      "You step into a room filled with eerie sounds... suddenly, a trap door opens!\n",
      "You fall into a pit and lose 20 health points!\n",
      "\n",
      "You find a treasure_key!\n",
      "\n",
      "Current health: 45\n",
      "\n",
      "You are at a crossroads in the mansion. Choose your path:\n"
     ]
    },
    {
     "name": "stdin",
     "output_type": "stream",
     "text": [
      "Do you want to go 'left', 'right', or 'straight'?  left\n"
     ]
    },
    {
     "name": "stdout",
     "output_type": "stream",
     "text": [
      "\n",
      "You walk down a dark corridor and encounter a ghost!\n",
      "\n",
      "A ghost appears out of nowhere! It looks menacing...\n",
      "You don't have a silver sword! The ghost overpowers you and drains your health.\n",
      "\n",
      "Current health: 25\n",
      "\n",
      "You are at a crossroads in the mansion. Choose your path:\n"
     ]
    },
    {
     "name": "stdin",
     "output_type": "stream",
     "text": [
      "Do you want to go 'left', 'right', or 'straight'?  straight\n"
     ]
    },
    {
     "name": "stdout",
     "output_type": "stream",
     "text": [
      "\n",
      "You walk down the hallway and come across an old chest. It’s locked.\n",
      "You unlock the chest with your treasure key and find the hidden treasure!\n",
      "\n",
      "Congratulations! You've found the treasure and completed your journey.\n"
     ]
    }
   ],
   "source": [
    "def run_mansion():\n",
    "    print(\"Welcome to the Haunted Mansion!\")\n",
    "    time.sleep(1)\n",
    "    \n",
    "    health = 100\n",
    "    items = []  # Items the adventurer picks up along the way\n",
    "    \n",
    "    # List of available items\n",
    "    available_items = [\"silver_sword\", \"healing_potion\", \"treasure_key\", \"mysterious_map\"]\n",
    "\n",
    "    print(\"\\nYou start your adventure with 100 health points.\")\n",
    "    time.sleep(1)\n",
    "\n",
    "    while health > 0:\n",
    "        print(f\"\\nCurrent health: {health}\")\n",
    "        print(\"\\nYou are at a crossroads in the mansion. Choose your path:\")\n",
    "        path = input(\"Do you want to go 'left', 'right', or 'straight'? \").lower()\n",
    "\n",
    "        if path == 'left':\n",
    "            print(\"\\nYou walk down a dark corridor and encounter a ghost!\")\n",
    "            time.sleep(1)\n",
    "            health = encounter_ghost(health, items)\n",
    "            if health <= 0:\n",
    "                print(\"You have no health left. Game over!\")\n",
    "                break\n",
    "            elif random.random() < 0.5:  # 50% chance to find an item\n",
    "                item_found = random.choice(available_items)\n",
    "                if item_found not in items:\n",
    "                    items.append(item_found)\n",
    "                    print(f\"\\nYou find a {item_found}!\")\n",
    "                else:\n",
    "                    print(\"\\nYou find nothing new.\")\n",
    "            continue\n",
    "\n",
    "        elif path == 'right':\n",
    "            print(\"\\nYou step into a room filled with eerie sounds... suddenly, a trap door opens!\")\n",
    "            time.sleep(1)\n",
    "            print(\"You fall into a pit and lose 20 health points!\")\n",
    "            health -= 20\n",
    "            if health <= 0:\n",
    "                print(\"You have no health left. Game over!\")\n",
    "                break\n",
    "            elif random.random() < 0.3:  # 30% chance to find an item\n",
    "                item_found = random.choice(available_items)\n",
    "                if item_found not in items:\n",
    "                    items.append(item_found)\n",
    "                    print(f\"\\nYou find a {item_found}!\")\n",
    "                else:\n",
    "                    print(\"\\nYou find nothing new.\")\n",
    "            continue\n",
    "\n",
    "        elif path == 'straight':\n",
    "            print(\"\\nYou walk down the hallway and come across an old chest. It’s locked.\")\n",
    "            time.sleep(1)\n",
    "            if \"treasure_key\" in items:\n",
    "                print(\"You unlock the chest with your treasure key and find the hidden treasure!\")\n",
    "                break\n",
    "            else:\n",
    "                print(\"The chest is locked. You need a key to open it.\")\n",
    "                continue\n",
    "\n",
    "        else:\n",
    "            print(\"\\nInvalid choice. Please choose 'left', 'right', or 'straight'.\")\n",
    "            continue\n",
    "\n",
    "        # Pause and wait for the next move\n",
    "        time.sleep(1)\n",
    "\n",
    "    print(\"\\nCongratulations! You've found the treasure and completed your journey.\")\n",
    "\n",
    "if __name__ == \"__main__\":\n",
    "    run_mansion()"
   ]
  },
  {
   "cell_type": "markdown",
   "id": "88212f63-3bdb-479f-bf6c-4ecd0685d39a",
   "metadata": {},
   "source": [
    "This should print the game's narrative and prompt the user to make choices and fight ghosts. The game ends when the adventurer finds the key or loses all their health points. "
   ]
  }
 ],
 "metadata": {
  "kernelspec": {
   "display_name": "Python 3 (ipykernel)",
   "language": "python",
   "name": "python3"
  },
  "language_info": {
   "codemirror_mode": {
    "name": "ipython",
    "version": 3
   },
   "file_extension": ".py",
   "mimetype": "text/x-python",
   "name": "python",
   "nbconvert_exporter": "python",
   "pygments_lexer": "ipython3",
   "version": "3.12.4"
  }
 },
 "nbformat": 4,
 "nbformat_minor": 5
}
